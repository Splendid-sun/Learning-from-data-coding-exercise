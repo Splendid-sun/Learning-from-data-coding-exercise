{
 "cells": [
  {
   "cell_type": "markdown",
   "metadata": {},
   "source": [
    "Problem 1.4 (Page 34）\n",
    "In Exercise 1.4, we use an artificial data set to study the perceptron learning algorithm . This problem leads you to explore the algorithm further with data sets of different sizes and dimensions.\n",
    "(a) Generate a linearly separable data set of size 20 as indicated in Exercise 1.4. Plot the examples $\\{ (x_n , y_n) \\}$ as well as the target function $f$ on a plane. Be sure to mark the examples from different classes differently, and add labels to the axes of the plot.\n",
    "(b) Run the perceptron learning algorithm on the data set above. Report the number of updates that the algorithm takes before converging. Plot the examples $\\{ (x_n , y_n) \\}$ , the target function f, and the final hypothesis g in the same figure. Comment on whether f is close to g.\n",
    "(c) Repeat everything in (b) with another randomly generated data set of size 20. Compare your results with (b) .\n",
    "(d) Repeat everything in (b) with another randomly generated data set of size 100. Compare your results with (b) .\n",
    "(e) Repeat everything in (b) with another randomly generated data set of size 1, 000. Compare your results with (b) .\n",
    "(f) Modify the algorithm such that it takes $x_n\\in R^{10}$ instead of $R^2$ . Randomly generate a linearly separable data set of size 1, 000 with $x_n\\in R^{10}$ and feed the data set to the algorithm. How many updates does the algorithm take to converge?\n",
    "(g) Repeat the algorithm on the same data set as (f) for 100 experiments. In the iterations of each experiment, pick $x(t)$ randomly instead of deterministically. Plot a histogram for the number of updates that the algorithm takes to converge.\n",
    "(h) Summarize your conclusions with respect to accuracy and running time as a function of $N$ and $d$."
   ]
  },
  {
   "cell_type": "code",
   "execution_count": 1,
   "metadata": {},
   "outputs": [
    {
     "name": "stderr",
     "output_type": "stream",
     "text": [
      "/Users/wang/anaconda3/lib/python3.6/site-packages/matplotlib/font_manager.py:1316: UserWarning: findfont: Font family ['sans-serif'] not found. Falling back to DejaVu Sans\n",
      "  (prop.get_family(), self.defaultFamily[fontext]))\n"
     ]
    },
    {
     "data": {
      "image/png": "[encoded data removed]",
      "text/plain": [
       "<matplotlib.figure.Figure at 0x10f071d68>"
      ]
     },
     "metadata": {},
     "output_type": "display_data"
    }
   ],
   "source": [
    "# -*- coding: utf-8 -*-\n",
    "import random\n",
    "import numpy as np\n",
    "import matplotlib.pyplot as plt\n",
    "plt.rcParams['font.sans-serif']=['SimHei'] #用来正常显示中文标签\n",
    "plt.rcParams['axes.unicode_minus']=False #用来正常显示负号\n",
    "\n",
    "#定义一个函数f(n),用来生成2n个binary线性可分的数据,并对这2n个数据运行perceptron算法，并画图\n",
    "def f(n):\n",
    "    #首先生成2n个可分的数据，生成两组，每一组有n个点，第一组点的每个分量属于[0,2]且label为1,第二组点的每个分量属于[2,4]且label为2,目标函数取x+y=4\n",
    "    #第一组label为1的n个点\n",
    "    X1=[]\n",
    "    Y1=[]\n",
    "    #第二组label为2的n个点\n",
    "    X2=[]\n",
    "    Y2=[]\n",
    "    for i in range(n):\n",
    "        X1.append(random.uniform(0,2))\n",
    "        Y1.append(random.uniform(0,2))\n",
    "        X2.append(random.uniform(2,4))\n",
    "        Y2.append(random.uniform(2,4))\n",
    "        \n",
    "    #生成数据列表，每个元素都是一个数组，其中第一个分量为1，第二三分量分别为第一第二维度的坐标数值，第四分量为label。\n",
    "    data1 = [np.array([1,X1[i],Y1[i],1]) for i in range(n)]\n",
    "    data2 = [np.array([1,X2[i],Y2[i],-1]) for i in range(n)]\n",
    "    data = data1 + data2\n",
    "    random.shuffle(data)\n",
    "    \n",
    "    #定义sign函数，用来判断正负\n",
    "    def sign(x):\n",
    "        if x>=0:\n",
    "            return 1\n",
    "        else:\n",
    "            return -1\n",
    "        \n",
    "    #定义判别函数，判断所有数据是否分类完成\n",
    "    def Judge(x,w):\n",
    "        flag=1\n",
    "        for i in x:\n",
    "            if sign(i[:3].dot(w))*i[-1]<0:\n",
    "                flag=0\n",
    "                break\n",
    "        return flag\n",
    "    #记录次数\n",
    "    s=0\n",
    "    #初始化w=[0,0,0]\n",
    "    w=np.array([0,0,0],dtype=float)\n",
    "    while (Judge(data,w)==0):\n",
    "        i=data[random.randint(0,2*n-1)]\n",
    "        if sign(i[:3].dot(w))*i[-1]<0:\n",
    "            w+=i[:3]*i[-1]\n",
    "            s+=1\n",
    "        \n",
    "    #直线方程g为w0+w1*x+w2*y=0,根据此生成点\n",
    "    X3=np.arange(0,4,0.1)\n",
    "    Y3=np.array([(X3[i]*w[1]+w[0])/(-w[2]) for i in range(len(X3))])\n",
    "\n",
    "    #目标函数f为x+y=4\n",
    "    X4=np.arange(0,4,0.1)\n",
    "    Y4=4-X4\n",
    "\n",
    "    #画出图片\n",
    "    plt.scatter(X1,Y1,c='r',s=1)\n",
    "    plt.scatter(X2,Y2,c='b',s=1)\n",
    "    plt.plot(X3,Y3,label=\"(\"+str(w[0])+\")+(\"+str(w[1])+\")x+(\"+str(w[2])+\")y=0\")\n",
    "    plt.plot(X4,Y4,label=\"x+y=4\")\n",
    "    plt.title(u\"经过\"+str(s)+u\"次迭代收敛\")\n",
    "    plt.legend()\n",
    "    plt.show()\n",
    "\n",
    "f(10)"
   ]
  },
  {
   "cell_type": "code",
   "execution_count": null,
   "metadata": {
    "collapsed": true
   },
   "outputs": [],
   "source": []
  }
 ],
 "metadata": {
  "kernelspec": {
   "display_name": "Python 3",
   "language": "python",
   "name": "python3"
  },
  "language_info": {
   "codemirror_mode": {
    "name": "ipython",
    "version": 3
   },
   "file_extension": ".py",
   "mimetype": "text/x-python",
   "name": "python",
   "nbconvert_exporter": "python",
   "pygments_lexer": "ipython3",
   "version": "3.6.3"
  }
 },
 "nbformat": 4,
 "nbformat_minor": 2
}
